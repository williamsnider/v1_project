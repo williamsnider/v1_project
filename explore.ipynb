{
 "cells": [
  {
   "cell_type": "code",
   "execution_count": 1,
   "metadata": {},
   "outputs": [],
   "source": [
    "import glob\n",
    "import pprint\n",
    "import numpy as np\n",
    "import pandas as pd\n",
    "from sonata.circuit import File\n",
    "from pathlib import Path\n",
    "\n",
    "path_v1_nodes = Path(r\"GLIF Network\\network\\v1_nodes.h5\")\n",
    "path_v1_nodes_types = Path(r\"GLIF Network\\network\\v1_node_types.csv\")\n",
    "path_v1_edges = Path(r\"GLIF Network\\network\\v1_v1_edges.h5\")\n",
    "path_v1_edges_types = Path(r\"GLIF Network\\network\\v1_v1_edge_types.csv\")"
   ]
  },
  {
   "cell_type": "code",
   "execution_count": 2,
   "metadata": {},
   "outputs": [
    {
     "name": "stdout",
     "output_type": "stream",
     "text": [
      "Contains nodes: True\n",
      "Contains edges: True\n"
     ]
    }
   ],
   "source": [
    "# Use one network file\n",
    "net = File(data_files=[path_v1_nodes, path_v1_edges], \n",
    "           data_type_files=[path_v1_nodes_types, path_v1_edges_types])\n",
    "print('Contains nodes: {}'.format(net.has_nodes))\n",
    "print('Contains edges: {}'.format(net.has_edges))"
   ]
  },
  {
   "cell_type": "code",
   "execution_count": 3,
   "metadata": {},
   "outputs": [
    {
     "data": {
      "text/plain": [
       "{'model_type': 'point_process', 'model_template': 'nest:glif_lif_asc_psc', 'dynamics_params': '488419491_glif_lif_asc_config.json', 'pop_name': 'e5Rbp4', 'gaba_synapse': None, 'ei': 'e', 'location': 'Cortex', 'population': 'v1', 'node_type_id': 488419491, tuning_angle: 0.0, x: 110.906706392, y: -431.668135698, z: 623.732699778, 'node_id': 0}"
      ]
     },
     "execution_count": 3,
     "metadata": {},
     "output_type": "execute_result"
    }
   ],
   "source": [
    "v1_nodes = net.nodes['v1']\n",
    "v1_nodes[0] ### DO NOT DO THIS - row's not necessarily the same as node_id per sonata documentation\n",
    "v1_nodes.get_node_id(0) # Do this"
   ]
  },
  {
   "cell_type": "code",
   "execution_count": 4,
   "metadata": {},
   "outputs": [
    {
     "data": {
      "text/html": [
       "<div>\n",
       "<style scoped>\n",
       "    .dataframe tbody tr th:only-of-type {\n",
       "        vertical-align: middle;\n",
       "    }\n",
       "\n",
       "    .dataframe tbody tr th {\n",
       "        vertical-align: top;\n",
       "    }\n",
       "\n",
       "    .dataframe thead th {\n",
       "        text-align: right;\n",
       "    }\n",
       "</style>\n",
       "<table border=\"1\" class=\"dataframe\">\n",
       "  <thead>\n",
       "    <tr style=\"text-align: right;\">\n",
       "      <th></th>\n",
       "      <th>node_type_id</th>\n",
       "      <th>node_id</th>\n",
       "      <th>tuning_angle</th>\n",
       "      <th>x</th>\n",
       "      <th>y</th>\n",
       "      <th>z</th>\n",
       "      <th>model_type</th>\n",
       "      <th>model_template</th>\n",
       "      <th>dynamics_params</th>\n",
       "      <th>pop_name</th>\n",
       "      <th>gaba_synapse</th>\n",
       "      <th>ei</th>\n",
       "      <th>location</th>\n",
       "      <th>population</th>\n",
       "    </tr>\n",
       "  </thead>\n",
       "  <tbody>\n",
       "    <tr>\n",
       "      <th>0</th>\n",
       "      <td>488419491</td>\n",
       "      <td>0</td>\n",
       "      <td>0.000000</td>\n",
       "      <td>110.906706</td>\n",
       "      <td>-431.668136</td>\n",
       "      <td>623.732700</td>\n",
       "      <td>point_process</td>\n",
       "      <td>nest:glif_lif_asc_psc</td>\n",
       "      <td>488419491_glif_lif_asc_config.json</td>\n",
       "      <td>e5Rbp4</td>\n",
       "      <td>NaN</td>\n",
       "      <td>e</td>\n",
       "      <td>Cortex</td>\n",
       "      <td>v1</td>\n",
       "    </tr>\n",
       "    <tr>\n",
       "      <th>1</th>\n",
       "      <td>471129934</td>\n",
       "      <td>1</td>\n",
       "      <td>0.017278</td>\n",
       "      <td>526.329919</td>\n",
       "      <td>-564.693981</td>\n",
       "      <td>-555.341582</td>\n",
       "      <td>point_process</td>\n",
       "      <td>nest:glif_lif_asc_psc</td>\n",
       "      <td>471129934_glif_lif_asc_config.json</td>\n",
       "      <td>e5Rbp4</td>\n",
       "      <td>NaN</td>\n",
       "      <td>e</td>\n",
       "      <td>Cortex</td>\n",
       "      <td>v1</td>\n",
       "    </tr>\n",
       "    <tr>\n",
       "      <th>2</th>\n",
       "      <td>488419491</td>\n",
       "      <td>2</td>\n",
       "      <td>0.034556</td>\n",
       "      <td>197.897567</td>\n",
       "      <td>-505.737886</td>\n",
       "      <td>709.692990</td>\n",
       "      <td>point_process</td>\n",
       "      <td>nest:glif_lif_asc_psc</td>\n",
       "      <td>488419491_glif_lif_asc_config.json</td>\n",
       "      <td>e5Rbp4</td>\n",
       "      <td>NaN</td>\n",
       "      <td>e</td>\n",
       "      <td>Cortex</td>\n",
       "      <td>v1</td>\n",
       "    </tr>\n",
       "    <tr>\n",
       "      <th>3</th>\n",
       "      <td>486052980</td>\n",
       "      <td>3</td>\n",
       "      <td>0.051833</td>\n",
       "      <td>400.302561</td>\n",
       "      <td>-465.458859</td>\n",
       "      <td>-224.639993</td>\n",
       "      <td>point_process</td>\n",
       "      <td>nest:glif_lif_asc_psc</td>\n",
       "      <td>486052980_glif_lif_asc_config.json</td>\n",
       "      <td>e5Rbp4</td>\n",
       "      <td>NaN</td>\n",
       "      <td>e</td>\n",
       "      <td>Cortex</td>\n",
       "      <td>v1</td>\n",
       "    </tr>\n",
       "    <tr>\n",
       "      <th>4</th>\n",
       "      <td>471129934</td>\n",
       "      <td>4</td>\n",
       "      <td>0.069111</td>\n",
       "      <td>-766.751467</td>\n",
       "      <td>-556.178476</td>\n",
       "      <td>55.929619</td>\n",
       "      <td>point_process</td>\n",
       "      <td>nest:glif_lif_asc_psc</td>\n",
       "      <td>471129934_glif_lif_asc_config.json</td>\n",
       "      <td>e5Rbp4</td>\n",
       "      <td>NaN</td>\n",
       "      <td>e</td>\n",
       "      <td>Cortex</td>\n",
       "      <td>v1</td>\n",
       "    </tr>\n",
       "  </tbody>\n",
       "</table>\n",
       "</div>"
      ],
      "text/plain": [
       "   node_type_id  node_id  tuning_angle           x           y           z  \\\n",
       "0     488419491        0      0.000000  110.906706 -431.668136  623.732700   \n",
       "1     471129934        1      0.017278  526.329919 -564.693981 -555.341582   \n",
       "2     488419491        2      0.034556  197.897567 -505.737886  709.692990   \n",
       "3     486052980        3      0.051833  400.302561 -465.458859 -224.639993   \n",
       "4     471129934        4      0.069111 -766.751467 -556.178476   55.929619   \n",
       "\n",
       "      model_type         model_template                     dynamics_params  \\\n",
       "0  point_process  nest:glif_lif_asc_psc  488419491_glif_lif_asc_config.json   \n",
       "1  point_process  nest:glif_lif_asc_psc  471129934_glif_lif_asc_config.json   \n",
       "2  point_process  nest:glif_lif_asc_psc  488419491_glif_lif_asc_config.json   \n",
       "3  point_process  nest:glif_lif_asc_psc  486052980_glif_lif_asc_config.json   \n",
       "4  point_process  nest:glif_lif_asc_psc  471129934_glif_lif_asc_config.json   \n",
       "\n",
       "  pop_name  gaba_synapse ei location population  \n",
       "0   e5Rbp4           NaN  e   Cortex         v1  \n",
       "1   e5Rbp4           NaN  e   Cortex         v1  \n",
       "2   e5Rbp4           NaN  e   Cortex         v1  \n",
       "3   e5Rbp4           NaN  e   Cortex         v1  \n",
       "4   e5Rbp4           NaN  e   Cortex         v1  "
      ]
     },
     "execution_count": 4,
     "metadata": {},
     "output_type": "execute_result"
    }
   ],
   "source": [
    "df = v1_nodes.to_dataframe()\n",
    "df.head()"
   ]
  },
  {
   "cell_type": "code",
   "execution_count": 5,
   "metadata": {},
   "outputs": [],
   "source": [
    "group = v1_nodes.get_group(v1_nodes.group_ids[0])\n",
    "num_nodes = len(group)"
   ]
  },
  {
   "cell_type": "code",
   "execution_count": null,
   "metadata": {},
   "outputs": [],
   "source": []
  },
  {
   "cell_type": "code",
   "execution_count": 6,
   "metadata": {},
   "outputs": [],
   "source": [
    "recurrent_edges = net.edges['v1_to_v1']"
   ]
  },
  {
   "cell_type": "markdown",
   "metadata": {},
   "source": [
    "# Test with subset of neurons"
   ]
  },
  {
   "cell_type": "code",
   "execution_count": 7,
   "metadata": {},
   "outputs": [],
   "source": [
    "test_node_ids = np.arange(0, num_nodes, 10000)\n"
   ]
  },
  {
   "cell_type": "code",
   "execution_count": 8,
   "metadata": {},
   "outputs": [
    {
     "data": {
      "text/plain": [
       "{tuning_angle: array([  0.        , 172.77788443, 345.55576886,  26.18151633,\n",
       "        109.19203099, 192.20254566, 275.21306032, 358.22357499,\n",
       "        277.63889984,  83.47972973, 212.6953125 ,  17.96545106,\n",
       "        291.50973851, 139.83208131,  20.9948542 ,   0.67876502,\n",
       "         27.95763994,  91.23633305, 175.44480671,  27.58483755,\n",
       "        108.81227437, 190.03971119, 271.26714801, 352.49458484]),\n",
       " x: array([ 110.90670639, -438.66998276,  239.35428611,  574.10818346,\n",
       "         -50.66001728, -676.50432845, -532.85158137,  309.68864798,\n",
       "          54.05242741,  627.77371459,  261.13189898,  -41.10577103,\n",
       "        -626.74449817,  451.06704993,  767.99366814,  443.26495778,\n",
       "         297.53627614, -492.34767062,  217.63333392,   62.10947478,\n",
       "         793.84139183, -301.62643184, -761.0497183 ,   64.8524343 ]),\n",
       " y: array([-431.6681357 , -565.12279812, -582.13508288, -266.89418775,\n",
       "        -299.82520751, -208.32573404, -209.07538297, -261.185533  ,\n",
       "        -245.31299149, -310.46516191, -428.82148035, -349.33775077,\n",
       "        -311.59797047, -335.15034494, -349.54339942, -400.37017063,\n",
       "        -631.55035948, -674.8957871 , -684.87355168, -666.05604968,\n",
       "        -717.22813379, -749.53045144, -710.92408146, -733.06714943]),\n",
       " z: array([ 623.73269978,   47.76399895, -805.73571816, -107.71251382,\n",
       "         413.69671226,  458.63214235, -181.32548661, -331.53608807,\n",
       "        -384.27752969,   79.61865078,   86.79598087,  267.39062338,\n",
       "        -107.31076113,  -34.92996195,  -59.09120972,  165.93798034,\n",
       "         360.69571562,  261.90245371, -236.82716558,  431.31425366,\n",
       "        -127.26777871, -520.88295038,  258.30966055,  671.00858516])}"
      ]
     },
     "execution_count": 8,
     "metadata": {},
     "output_type": "execute_result"
    }
   ],
   "source": [
    "group[test_node_ids]"
   ]
  },
  {
   "cell_type": "code",
   "execution_count": 9,
   "metadata": {},
   "outputs": [
    {
     "data": {
      "text/plain": [
       "array([     0,  10000,  20000,  30000,  40000,  50000,  60000,  70000,\n",
       "        80000,  90000, 100000, 110000, 120000, 130000, 140000, 150000,\n",
       "       160000, 170000, 180000, 190000, 200000, 210000, 220000, 230000])"
      ]
     },
     "execution_count": 9,
     "metadata": {},
     "output_type": "execute_result"
    }
   ],
   "source": [
    "test_node_ids"
   ]
  },
  {
   "cell_type": "code",
   "execution_count": 10,
   "metadata": {},
   "outputs": [
    {
     "ename": "SyntaxError",
     "evalue": "positional argument follows keyword argument (3067970592.py, line 4)",
     "output_type": "error",
     "traceback": [
      "\u001b[1;36m  Input \u001b[1;32mIn [10]\u001b[1;36m\u001b[0m\n\u001b[1;33m    matrix_type,\u001b[0m\n\u001b[1;37m    ^\u001b[0m\n\u001b[1;31mSyntaxError\u001b[0m\u001b[1;31m:\u001b[0m positional argument follows keyword argument\n"
     ]
    }
   ],
   "source": [
    "# model = GeNNModel(\"float\", \"v1_alone\")\n",
    "# model.add_neuron_population(\"v1_pop\", len(test_node_ids), \"TraubMiles\", p, ini)\n",
    "# model.add_synapse_population(    pop_name = \"v1_pop_self\",\n",
    "#     matrix_type,\n",
    "#     delay_steps,\n",
    "#     source,\n",
    "#     target,\n",
    "#     w_update_model,\n",
    "#     wu_param_space,\n",
    "#     wu_var_space,\n",
    "#     wu_pre_var_space,\n",
    "#     wu_post_var_space,\n",
    "#     postsyn_model,\n",
    "#     ps_param_space,\n",
    "#     ps_var_space,\n",
    "#     connectivity_initialiser=None,\n",
    "# )\n"
   ]
  },
  {
   "cell_type": "code",
   "execution_count": 14,
   "metadata": {},
   "outputs": [
    {
     "data": {
      "text/plain": [
       "<pygenn.genn_model.GeNNModel at 0x1a484e38d90>"
      ]
     },
     "execution_count": 14,
     "metadata": {},
     "output_type": "execute_result"
    }
   ],
   "source": []
  },
  {
   "cell_type": "code",
   "execution_count": 13,
   "metadata": {},
   "outputs": [
    {
     "data": {
      "image/png": "[encoded data removed]",
      "text/plain": [
       "<Figure size 432x288 with 1 Axes>"
      ]
     },
     "metadata": {
      "needs_background": "light"
     },
     "output_type": "display_data"
    }
   ],
   "source": [
    "import matplotlib.pyplot as plt\n",
    "import numpy as np\n",
    "from pygenn.genn_model import (GeNNModel, init_connectivity, create_cmlf_class,\n",
    "                               create_custom_sparse_connect_init_snippet_class)\n",
    "from pygenn.genn_wrapper import NO_DELAY\n",
    "ring_model = create_custom_sparse_connect_init_snippet_class(\n",
    "    \"ring\",\n",
    "    row_build_code=\n",
    "        \"\"\"\n",
    "        $(addSynapse, ($(id_pre) + 1) % $(num_post));\n",
    "        $(endRow);\n",
    "        \"\"\",\n",
    "    calc_max_row_len_func=create_cmlf_class(\n",
    "        lambda num_pre, num_post, pars: 1)())\n",
    "model = GeNNModel(\"float\", \"tenHHRing\")\n",
    "model.dT = 0.1\n",
    "p = {\"gNa\": 7.15,   # Na conductance in [muS]\n",
    "     \"ENa\": 50.0,   # Na equi potential [mV]\n",
    "     \"gK\": 1.43,    # K conductance in [muS]\n",
    "     \"EK\": -95.0,   # K equi potential [mV] \n",
    "     \"gl\": 0.02672, # leak conductance [muS]\n",
    "     \"El\": -63.563, # El: leak equi potential in mV, \n",
    "     \"C\": 0.143}    # membr. capacity density in nF\n",
    "ini = {\"V\": -60.0,      # membrane potential\n",
    "       \"m\": 0.0529324,  # prob. for Na channel activation\n",
    "       \"h\": 0.3176767,  # prob. for not Na channel blocking\n",
    "       \"n\": 0.5961207}  # prob. for K channel activation\n",
    "s_ini = {\"g\": -0.2}\n",
    "ps_p = {\"tau\": 1.0, # Decay time constant [ms] \n",
    "        \"E\": -80.0} # Reversal potential [mV]\n",
    "stim_ini = {\"startSpike\": [0], \"endSpike\": [1]}\n",
    "pop1 = model.add_neuron_population(\"Pop1\", 10, \"TraubMiles\", p, ini)\n",
    "stim = model.add_neuron_population(\"Stim\", 1, \"SpikeSourceArray\", {}, stim_ini)\n",
    "model.add_synapse_population(\"Pop1self\", \"SPARSE_GLOBALG\", 10,\n",
    "    pop1, pop1,\n",
    "    \"StaticPulse\", {}, s_ini, {}, {},\n",
    "    \"ExpCond\", ps_p, {},\n",
    "    init_connectivity(ring_model, {}))\n",
    "model.add_synapse_population(\"StimPop1\", \"SPARSE_GLOBALG\", NO_DELAY,\n",
    "    stim, pop1,\n",
    "    \"StaticPulse\", {}, s_ini, {}, {},\n",
    "    \"ExpCond\", ps_p, {},\n",
    "    init_connectivity(\"OneToOne\", {}))\n",
    "stim.set_extra_global_param(\"spikeTimes\", [0.0])\n",
    "model.build()\n",
    "model.load()\n",
    "v = np.empty((2000, 10))\n",
    "v_view = pop1.vars[\"V\"].view\n",
    "while model.t < 200.0:\n",
    "    model.step_time()\n",
    "    pop1.pull_var_from_device(\"V\")\n",
    "    \n",
    "    v[model.timestep - 1,:]=v_view[:]\n",
    "fig, axis = plt.subplots()\n",
    "axis.plot(v[:200,:])\n",
    "plt.show()"
   ]
  },
  {
   "cell_type": "code",
   "execution_count": 12,
   "metadata": {},
   "outputs": [
    {
     "name": "stdout",
     "output_type": "stream",
     "text": [
      "Object `model.add_synapse_population` not found.\n"
     ]
    }
   ],
   "source": [
    "\n",
    "model.add_synapse_population?"
   ]
  },
  {
   "cell_type": "code",
   "execution_count": null,
   "metadata": {},
   "outputs": [],
   "source": []
  },
  {
   "cell_type": "code",
   "execution_count": null,
   "metadata": {},
   "outputs": [],
   "source": []
  },
  {
   "cell_type": "code",
   "execution_count": null,
   "metadata": {},
   "outputs": [],
   "source": []
  },
  {
   "cell_type": "code",
   "execution_count": null,
   "metadata": {},
   "outputs": [],
   "source": []
  }
 ],
 "metadata": {
  "interpreter": {
   "hash": "22b7f3bacc6c800e947b1e0e433d6f6cd1d657b8e468163052a1b0941bbb0331"
  },
  "kernelspec": {
   "display_name": "Python 3 (ipykernel)",
   "language": "python",
   "name": "python3"
  },
  "language_info": {
   "codemirror_mode": {
    "name": "ipython",
    "version": 3
   },
   "file_extension": ".py",
   "mimetype": "text/x-python",
   "name": "python",
   "nbconvert_exporter": "python",
   "pygments_lexer": "ipython3",
   "version": "3.8.13"
  }
 },
 "nbformat": 4,
 "nbformat_minor": 2
}
