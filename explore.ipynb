{
 "cells": [
  {
   "cell_type": "code",
   "execution_count": 8,
   "metadata": {},
   "outputs": [],
   "source": [
    "import glob\n",
    "import pprint\n",
    "import numpy as np\n",
    "import pandas as pd\n",
    "from sonata.circuit import File\n",
    "from pathlib import Path\n",
    "\n",
    "path_v1_nodes = Path(r\"GLIF Network\\network\\v1_nodes.h5\")\n",
    "path_v1_nodes_types = Path(r\"GLIF Network\\network\\v1_node_types.csv\")\n",
    "path_v1_edges = Path(r\"GLIF Network\\network\\v1_v1_edges.h5\")\n",
    "path_v1_edges_types = Path(r\"GLIF Network\\network\\v1_v1_edge_types.csv\")"
   ]
  },
  {
   "cell_type": "code",
   "execution_count": 9,
   "metadata": {},
   "outputs": [
    {
     "name": "stdout",
     "output_type": "stream",
     "text": [
      "Contains nodes: True\n",
      "Contains edges: True\n"
     ]
    }
   ],
   "source": [
    "# Use one network file\n",
    "net = File(data_files=[path_v1_nodes, path_v1_edges], \n",
    "           data_type_files=[path_v1_nodes_types, path_v1_edges_types])\n",
    "print('Contains nodes: {}'.format(net.has_nodes))\n",
    "print('Contains edges: {}'.format(net.has_edges))"
   ]
  },
  {
   "cell_type": "code",
   "execution_count": 10,
   "metadata": {},
   "outputs": [],
   "source": [
    "v1_nodes = net.nodes['v1']\n",
    "v1_nodes[0] ### DO NOT DO THIS - row's not necessarily the same as node_id per sonata documentation\n",
    "v1_nodes.get_node_id(0) # Do this"
   ]
  },
  {
   "cell_type": "code",
   "execution_count": 30,
   "metadata": {},
   "outputs": [
    {
     "data": {
      "text/html": [
       "<div>\n",
       "<style scoped>\n",
       "    .dataframe tbody tr th:only-of-type {\n",
       "        vertical-align: middle;\n",
       "    }\n",
       "\n",
       "    .dataframe tbody tr th {\n",
       "        vertical-align: top;\n",
       "    }\n",
       "\n",
       "    .dataframe thead th {\n",
       "        text-align: right;\n",
       "    }\n",
       "</style>\n",
       "<table border=\"1\" class=\"dataframe\">\n",
       "  <thead>\n",
       "    <tr style=\"text-align: right;\">\n",
       "      <th></th>\n",
       "      <th>node_type_id</th>\n",
       "      <th>node_id</th>\n",
       "      <th>tuning_angle</th>\n",
       "      <th>x</th>\n",
       "      <th>y</th>\n",
       "      <th>z</th>\n",
       "      <th>model_type</th>\n",
       "      <th>model_template</th>\n",
       "      <th>dynamics_params</th>\n",
       "      <th>pop_name</th>\n",
       "      <th>gaba_synapse</th>\n",
       "      <th>ei</th>\n",
       "      <th>location</th>\n",
       "      <th>population</th>\n",
       "    </tr>\n",
       "  </thead>\n",
       "  <tbody>\n",
       "    <tr>\n",
       "      <th>0</th>\n",
       "      <td>488419491</td>\n",
       "      <td>0</td>\n",
       "      <td>0.000000</td>\n",
       "      <td>110.906706</td>\n",
       "      <td>-431.668136</td>\n",
       "      <td>623.732700</td>\n",
       "      <td>point_process</td>\n",
       "      <td>nest:glif_lif_asc_psc</td>\n",
       "      <td>488419491_glif_lif_asc_config.json</td>\n",
       "      <td>e5Rbp4</td>\n",
       "      <td>NaN</td>\n",
       "      <td>e</td>\n",
       "      <td>Cortex</td>\n",
       "      <td>v1</td>\n",
       "    </tr>\n",
       "    <tr>\n",
       "      <th>1</th>\n",
       "      <td>471129934</td>\n",
       "      <td>1</td>\n",
       "      <td>0.017278</td>\n",
       "      <td>526.329919</td>\n",
       "      <td>-564.693981</td>\n",
       "      <td>-555.341582</td>\n",
       "      <td>point_process</td>\n",
       "      <td>nest:glif_lif_asc_psc</td>\n",
       "      <td>471129934_glif_lif_asc_config.json</td>\n",
       "      <td>e5Rbp4</td>\n",
       "      <td>NaN</td>\n",
       "      <td>e</td>\n",
       "      <td>Cortex</td>\n",
       "      <td>v1</td>\n",
       "    </tr>\n",
       "    <tr>\n",
       "      <th>2</th>\n",
       "      <td>488419491</td>\n",
       "      <td>2</td>\n",
       "      <td>0.034556</td>\n",
       "      <td>197.897567</td>\n",
       "      <td>-505.737886</td>\n",
       "      <td>709.692990</td>\n",
       "      <td>point_process</td>\n",
       "      <td>nest:glif_lif_asc_psc</td>\n",
       "      <td>488419491_glif_lif_asc_config.json</td>\n",
       "      <td>e5Rbp4</td>\n",
       "      <td>NaN</td>\n",
       "      <td>e</td>\n",
       "      <td>Cortex</td>\n",
       "      <td>v1</td>\n",
       "    </tr>\n",
       "    <tr>\n",
       "      <th>3</th>\n",
       "      <td>486052980</td>\n",
       "      <td>3</td>\n",
       "      <td>0.051833</td>\n",
       "      <td>400.302561</td>\n",
       "      <td>-465.458859</td>\n",
       "      <td>-224.639993</td>\n",
       "      <td>point_process</td>\n",
       "      <td>nest:glif_lif_asc_psc</td>\n",
       "      <td>486052980_glif_lif_asc_config.json</td>\n",
       "      <td>e5Rbp4</td>\n",
       "      <td>NaN</td>\n",
       "      <td>e</td>\n",
       "      <td>Cortex</td>\n",
       "      <td>v1</td>\n",
       "    </tr>\n",
       "    <tr>\n",
       "      <th>4</th>\n",
       "      <td>471129934</td>\n",
       "      <td>4</td>\n",
       "      <td>0.069111</td>\n",
       "      <td>-766.751467</td>\n",
       "      <td>-556.178476</td>\n",
       "      <td>55.929619</td>\n",
       "      <td>point_process</td>\n",
       "      <td>nest:glif_lif_asc_psc</td>\n",
       "      <td>471129934_glif_lif_asc_config.json</td>\n",
       "      <td>e5Rbp4</td>\n",
       "      <td>NaN</td>\n",
       "      <td>e</td>\n",
       "      <td>Cortex</td>\n",
       "      <td>v1</td>\n",
       "    </tr>\n",
       "  </tbody>\n",
       "</table>\n",
       "</div>"
      ],
      "text/plain": [
       "   node_type_id  node_id  tuning_angle           x           y           z  \\\n",
       "0     488419491        0      0.000000  110.906706 -431.668136  623.732700   \n",
       "1     471129934        1      0.017278  526.329919 -564.693981 -555.341582   \n",
       "2     488419491        2      0.034556  197.897567 -505.737886  709.692990   \n",
       "3     486052980        3      0.051833  400.302561 -465.458859 -224.639993   \n",
       "4     471129934        4      0.069111 -766.751467 -556.178476   55.929619   \n",
       "\n",
       "      model_type         model_template                     dynamics_params  \\\n",
       "0  point_process  nest:glif_lif_asc_psc  488419491_glif_lif_asc_config.json   \n",
       "1  point_process  nest:glif_lif_asc_psc  471129934_glif_lif_asc_config.json   \n",
       "2  point_process  nest:glif_lif_asc_psc  488419491_glif_lif_asc_config.json   \n",
       "3  point_process  nest:glif_lif_asc_psc  486052980_glif_lif_asc_config.json   \n",
       "4  point_process  nest:glif_lif_asc_psc  471129934_glif_lif_asc_config.json   \n",
       "\n",
       "  pop_name  gaba_synapse ei location population  \n",
       "0   e5Rbp4           NaN  e   Cortex         v1  \n",
       "1   e5Rbp4           NaN  e   Cortex         v1  \n",
       "2   e5Rbp4           NaN  e   Cortex         v1  \n",
       "3   e5Rbp4           NaN  e   Cortex         v1  \n",
       "4   e5Rbp4           NaN  e   Cortex         v1  "
      ]
     },
     "execution_count": 30,
     "metadata": {},
     "output_type": "execute_result"
    }
   ],
   "source": [
    "df = v1_nodes.to_dataframe()\n",
    "df.head()"
   ]
  },
  {
   "cell_type": "code",
   "execution_count": 55,
   "metadata": {},
   "outputs": [],
   "source": [
    "group = v1_nodes.get_group(v1_nodes.group_ids[0])\n",
    "num_nodes = len(group)"
   ]
  },
  {
   "cell_type": "code",
   "execution_count": 53,
   "metadata": {},
   "outputs": [
    {
     "data": {
      "text/plain": [
       "230924"
      ]
     },
     "execution_count": 53,
     "metadata": {},
     "output_type": "execute_result"
    }
   ],
   "source": []
  },
  {
   "cell_type": "code",
   "execution_count": 39,
   "metadata": {},
   "outputs": [],
   "source": [
    "recurrent_edges = net.edges['v1_to_v1']"
   ]
  },
  {
   "cell_type": "markdown",
   "metadata": {},
   "source": [
    "# Test with subset of neurons"
   ]
  },
  {
   "cell_type": "code",
   "execution_count": 68,
   "metadata": {},
   "outputs": [
    {
     "data": {
      "text/plain": [
       "<sonata.circuit.population.NodePopulation at 0x24bab6f3fa0>"
      ]
     },
     "execution_count": 68,
     "metadata": {},
     "output_type": "execute_result"
    }
   ],
   "source": [
    "test_node_ids = np.arange(0, num_nodes, 10000)\n"
   ]
  },
  {
   "cell_type": "code",
   "execution_count": 67,
   "metadata": {},
   "outputs": [
    {
     "data": {
      "text/plain": [
       "{tuning_angle: array([0.01727779, 0.03455558, 0.05183337]),\n",
       " x: array([526.32991913, 197.89756677, 400.3025613 ]),\n",
       " y: array([-564.69398131, -505.73788614, -465.45885927]),\n",
       " z: array([-555.34158169,  709.69299036, -224.63999256])}"
      ]
     },
     "execution_count": 67,
     "metadata": {},
     "output_type": "execute_result"
    }
   ],
   "source": []
  }
 ],
 "metadata": {
  "interpreter": {
   "hash": "22b7f3bacc6c800e947b1e0e433d6f6cd1d657b8e468163052a1b0941bbb0331"
  },
  "kernelspec": {
   "display_name": "Python 3.8.13 ('v1_venv')",
   "language": "python",
   "name": "python3"
  },
  "language_info": {
   "codemirror_mode": {
    "name": "ipython",
    "version": 3
   },
   "file_extension": ".py",
   "mimetype": "text/x-python",
   "name": "python",
   "nbconvert_exporter": "python",
   "pygments_lexer": "ipython3",
   "version": "3.8.13"
  },
  "orig_nbformat": 4
 },
 "nbformat": 4,
 "nbformat_minor": 2
}
